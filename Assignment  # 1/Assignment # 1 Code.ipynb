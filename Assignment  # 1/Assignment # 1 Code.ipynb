{
 "cells": [
  {
   "cell_type": "code",
   "execution_count": 1,
   "id": "41881194",
   "metadata": {},
   "outputs": [
    {
     "name": "stdout",
     "output_type": "stream",
     "text": [
      "Assignment # 1\n"
     ]
    }
   ],
   "source": [
    "print(\"Assignment # 1\")"
   ]
  },
  {
   "cell_type": "code",
   "execution_count": 156,
   "id": "7357c666",
   "metadata": {},
   "outputs": [
    {
     "name": "stdout",
     "output_type": "stream",
     "text": [
      "1. Write a python program to print the following string in a specific format.\n"
     ]
    }
   ],
   "source": [
    "print(\"1. Write a python program to print the following string in a specific format.\")"
   ]
  },
  {
   "cell_type": "code",
   "execution_count": 163,
   "id": "4cdacbda",
   "metadata": {},
   "outputs": [
    {
     "name": "stdout",
     "output_type": "stream",
     "text": [
      "Twinkle,twinkle,little star,\n",
      "\tHow I wonnder what you are!\n",
      "\t\tUp above the world so high,\n",
      "\t\tLike a diamond in the sky.\n",
      "Twinkle,twinkle,little star,\n",
      "\tHow I wonder what you are\n"
     ]
    }
   ],
   "source": [
    "a=\"Twinkle,twinkle,little star,\";\n",
    "b=\"\\n\\tHow I wonnder what you are!\";\n",
    "c=\"\\n\\t\\tUp above the world so high,\";\n",
    "d=\"\\n\\t\\tLike a diamond in the sky.\";\n",
    "e=\"\\nTwinkle,twinkle,little star,\";\n",
    "f=\"\\n\\tHow I wonder what you are\";\n",
    "print(a+b+c+d+e+f)\n"
   ]
  },
  {
   "cell_type": "code",
   "execution_count": 150,
   "id": "180215c1",
   "metadata": {},
   "outputs": [
    {
     "name": "stdout",
     "output_type": "stream",
     "text": [
      "2. Write a python program to get the python verison you are using.\n"
     ]
    }
   ],
   "source": [
    "print(\"2. Write a python program to get the python verison you are using.\")"
   ]
  },
  {
   "cell_type": "code",
   "execution_count": 153,
   "id": "d51458ff",
   "metadata": {},
   "outputs": [
    {
     "name": "stdout",
     "output_type": "stream",
     "text": [
      "Python verison\n",
      "3.9.7 (default, Sep 16 2021, 16:59:28) [MSC v.1916 64 bit (AMD64)]\n"
     ]
    }
   ],
   "source": [
    "import sys\n",
    "print(\"Python verison\")\n",
    "print(sys.version)"
   ]
  },
  {
   "cell_type": "code",
   "execution_count": 157,
   "id": "e6927a93",
   "metadata": {},
   "outputs": [
    {
     "name": "stdout",
     "output_type": "stream",
     "text": [
      "3. Write a python program to display the current date and time.\n"
     ]
    }
   ],
   "source": [
    "print(\"3. Write a python program to display the current date and time.\")"
   ]
  },
  {
   "cell_type": "code",
   "execution_count": 158,
   "id": "6b268752",
   "metadata": {},
   "outputs": [
    {
     "name": "stdout",
     "output_type": "stream",
     "text": [
      "Current date and time : \n",
      "29-12-2021 13:54:01\n",
      "Sir kisi or method se ho skta hai ye copy paste hai. is ko class me explain kr djea ga.\n"
     ]
    }
   ],
   "source": [
    "import datetime\n",
    "now = datetime.datetime.now();\n",
    "print (\"Current date and time : \")\n",
    "print (now.strftime(\"%d-%m-%Y %H:%M:%S\"))\n",
    "print(\"Sir kisi or method se ho skta hai ye copy paste hai. is ko class me explain kr djea ga.\")\n"
   ]
  },
  {
   "cell_type": "code",
   "execution_count": 147,
   "id": "196cebef",
   "metadata": {},
   "outputs": [
    {
     "name": "stdout",
     "output_type": "stream",
     "text": [
      "4. Write a python program which accepts the radius of a circle from the user and compute the area.\n"
     ]
    }
   ],
   "source": [
    "print(\"4. Write a python program which accepts the radius of a circle from the user and compute the area.\")"
   ]
  },
  {
   "cell_type": "code",
   "execution_count": 155,
   "id": "dfeaa20f",
   "metadata": {},
   "outputs": [
    {
     "name": "stdout",
     "output_type": "stream",
     "text": [
      "28.2735\n"
     ]
    }
   ],
   "source": [
    "# Let\n",
    "r=3;\n",
    "pi=3.1415;\n",
    "area=pi*r*r;\n",
    "print(area)"
   ]
  },
  {
   "cell_type": "code",
   "execution_count": 159,
   "id": "a9aaff73",
   "metadata": {},
   "outputs": [
    {
     "name": "stdout",
     "output_type": "stream",
     "text": [
      "5. write a python program which accepts the user's first and last name and print them in reverse order with a space between them.\n"
     ]
    }
   ],
   "source": [
    "print(\"5. write a python program which accepts the user's first and last name and print them in reverse order with a space between them.\")"
   ]
  },
  {
   "cell_type": "code",
   "execution_count": 160,
   "id": "f4995dd8",
   "metadata": {},
   "outputs": [
    {
     "name": "stdout",
     "output_type": "stream",
     "text": [
      "My name is:Saira Gulzar\n"
     ]
    }
   ],
   "source": [
    "a=\"Saira Gulzar\";\n",
    "b=\"My name is:\"+a;\n",
    "print(b)\n"
   ]
  },
  {
   "cell_type": "code",
   "execution_count": 161,
   "id": "93fac7d5",
   "metadata": {},
   "outputs": [
    {
     "name": "stdout",
     "output_type": "stream",
     "text": [
      "6. write a python program which takes two inputs form user and print them into addition.\n"
     ]
    }
   ],
   "source": [
    "print (\"6. write a python program which takes two inputs form user and print them into addition.\");"
   ]
  },
  {
   "cell_type": "code",
   "execution_count": 151,
   "id": "16ff8e32",
   "metadata": {},
   "outputs": [
    {
     "name": "stdout",
     "output_type": "stream",
     "text": [
      "105\n"
     ]
    }
   ],
   "source": [
    "x=45;\n",
    "y=60;\n",
    "print(x+y)"
   ]
  }
 ],
 "metadata": {
  "kernelspec": {
   "display_name": "Python 3 (ipykernel)",
   "language": "python",
   "name": "python3"
  },
  "language_info": {
   "codemirror_mode": {
    "name": "ipython",
    "version": 3
   },
   "file_extension": ".py",
   "mimetype": "text/x-python",
   "name": "python",
   "nbconvert_exporter": "python",
   "pygments_lexer": "ipython3",
   "version": "3.9.7"
  }
 },
 "nbformat": 4,
 "nbformat_minor": 5
}
